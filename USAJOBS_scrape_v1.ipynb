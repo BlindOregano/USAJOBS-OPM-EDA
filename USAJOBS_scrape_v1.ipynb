{
 "cells": [
  {
   "cell_type": "code",
   "execution_count": 45,
   "id": "ee24e9ba-924b-433e-922c-b04cae73d5a6",
   "metadata": {},
   "outputs": [],
   "source": [
    "\n",
    "import pandas as pd\n",
    "import os\n",
    "import requests\n",
    "import json\n",
    "import pprint as pp\n",
    "import time\n",
    "import numpy as np\n",
    "import csv"
   ]
  },
  {
   "cell_type": "code",
   "execution_count": 48,
   "id": "893c2f0b-3a8e-4137-878f-97a7c3440edb",
   "metadata": {},
   "outputs": [],
   "source": [
    "API_host = 'data.usajobs.gov'\n",
    "API_email = 'a02210879@usu.edu'\n",
    "API_key = 'czXxOjqnNMtMhTFybtoIMfaqzrXPo3UDCeXjlz+sPN0='"
   ]
  },
  {
   "cell_type": "code",
   "execution_count": 49,
   "id": "4e70cbb2-0206-437a-b5b5-b00c7434cb3e",
   "metadata": {},
   "outputs": [],
   "source": [
    "r = requests.get('https://data.usajobs.gov/api/codelist/agencysubelements')"
   ]
  },
  {
   "cell_type": "code",
   "execution_count": 50,
   "id": "92101982-11cd-44fa-aa13-a1361699c6e9",
   "metadata": {},
   "outputs": [],
   "source": [
    "codes = r.json()\n",
    "codes = codes['CodeList'][0]['ValidValue']"
   ]
  },
  {
   "cell_type": "code",
   "execution_count": 51,
   "id": "67d3bd78-59d0-4333-9b85-62d6466d60ca",
   "metadata": {},
   "outputs": [],
   "source": [
    "# with open(f\"./codes.json\", \"w\") as fp:\n",
    "#     json.dump(codes, fp)"
   ]
  },
  {
   "cell_type": "code",
   "execution_count": 32,
   "id": "e5c03d9e-2ff4-4197-89c4-5c984233025c",
   "metadata": {
    "scrolled": true
   },
   "outputs": [],
   "source": [
    "org_code = []\n",
    "for i in range(len(codes)):\n",
    "    if len(codes[i]['Code']) == 2:\n",
    "        org_code.append(codes[i]['Code'])"
   ]
  },
  {
   "cell_type": "code",
   "execution_count": 47,
   "id": "41ed4e0e-dce0-49d5-b8c1-5c1c570239a1",
   "metadata": {},
   "outputs": [
    {
     "data": {
      "text/plain": [
       "['AF',\n",
       " 'AG',\n",
       " 'AR',\n",
       " 'CM',\n",
       " 'DD',\n",
       " 'DJ',\n",
       " 'DL',\n",
       " 'ED',\n",
       " 'DN',\n",
       " 'GS',\n",
       " 'HE',\n",
       " 'HS',\n",
       " 'HU',\n",
       " 'IN',\n",
       " 'NN',\n",
       " 'NV',\n",
       " 'RH',\n",
       " 'ST',\n",
       " 'TD',\n",
       " 'TR',\n",
       " 'VA',\n",
       " 'CI',\n",
       " 'FQ',\n",
       " 'JL',\n",
       " 'LL',\n",
       " 'SM',\n",
       " 'TB',\n",
       " 'AH',\n",
       " 'OT',\n",
       " 'ZZ']"
      ]
     },
     "execution_count": 47,
     "metadata": {},
     "output_type": "execute_result"
    }
   ],
   "source": [
    "org_code"
   ]
  },
  {
   "cell_type": "code",
   "execution_count": 46,
   "id": "a3ff970e-db31-41d6-b66c-b2f1fde078e3",
   "metadata": {},
   "outputs": [],
   "source": [
    "with open('./org_codes.csv', 'w') as f:\n",
    "    write = csv.writer(f)\n",
    "    write.writerows(org_code)"
   ]
  },
  {
   "cell_type": "code",
   "execution_count": 12,
   "id": "cac27c46-5463-47b9-9868-9ef3904266e7",
   "metadata": {},
   "outputs": [],
   "source": [
    "API_head = {'Host':API_host,'User-Agent':API_email,'Authorization-Key':API_key}"
   ]
  },
  {
   "cell_type": "code",
   "execution_count": 27,
   "id": "75af0297-cedb-49ed-a05a-819757604e78",
   "metadata": {},
   "outputs": [
    {
     "name": "stdout",
     "output_type": "stream",
     "text": [
      "Org:  AF \tTotal Pages:  5\n",
      "Org:  AG \tTotal Pages:  2\n",
      "Org:  AR \tTotal Pages:  8\n",
      "Org:  CM \tTotal Pages:  1\n",
      "Org:  DD \tTotal Pages:  12\n",
      "Org:  DJ \tTotal Pages:  2\n",
      "Org:  DL \tTotal Pages:  1\n",
      "Org:  ED \tTotal Pages:  1\n",
      "Org:  DN \tTotal Pages:  1\n",
      "Org:  GS \tTotal Pages:  1\n",
      "Org:  HE \tTotal Pages:  3\n",
      "Org:  HS \tTotal Pages:  3\n",
      "Org:  HU \tTotal Pages:  1\n",
      "Org:  IN \tTotal Pages:  2\n",
      "Org:  NN \tTotal Pages:  1\n",
      "Org:  NV \tTotal Pages:  5\n",
      "Org:  RH \tTotal Pages:  0\n",
      "Org:  ST \tTotal Pages:  1\n",
      "Org:  TD \tTotal Pages:  2\n",
      "Org:  TR \tTotal Pages:  2\n",
      "Org:  VA \tTotal Pages:  7\n",
      "Org:  CI \tTotal Pages:  0\n",
      "Org:  FQ \tTotal Pages:  1\n",
      "Org:  JL \tTotal Pages:  1\n",
      "Org:  LL \tTotal Pages:  1\n",
      "Org:  SM \tTotal Pages:  0\n",
      "Org:  TB \tTotal Pages:  0\n",
      "Org:  AH \tTotal Pages:  1\n",
      "Org:  OT \tTotal Pages:  2\n",
      "Org:  ZZ \tTotal Pages:  0\n"
     ]
    }
   ],
   "source": [
    "for i in range(len(org_code)):\n",
    "    post_data = []\n",
    "    url = ('https://data.usajobs.gov/api/search?' +\n",
    "           '&ResultsPerPage=500' +\n",
    "            f'&Organization={org_code[i]}')\n",
    "    req = requests.get(url,headers=API_head).json()\n",
    "    num_pages = int(req['SearchResult']['UserArea']['NumberOfPages'])\n",
    "    print('Org: ', org_code[i], '\\tTotal Pages: ', num_pages)\n",
    "    [post_data.append(x) for x in req['SearchResult']['SearchResultItems']]\n",
    "    # print(post_data[0]['MatchedObjectId'])\n",
    "    if num_pages > 1:\n",
    "        for j in range(2,num_pages+1):\n",
    "            url = ('https://data.usajobs.gov/api/search?' +\n",
    "                   '&ResultsPerPage=500' + \n",
    "                f'&Organization={org_code[i]}' +\n",
    "                f'&Page={j}')\n",
    "            req = requests.get(url,headers=API_head).json()\n",
    "            [post_data.append(x) for x in req['SearchResult']['SearchResultItems']]\n",
    "           # print(post_data[0]['MatchedObjectId'])\n",
    "    with open(f\"./Data/USAJOBS_postings_{org_code[i]}.json\", \"w\") as fp:\n",
    "        json.dump(post_data, fp)\n",
    "    time.sleep(3)\n",
    "    \n",
    "    \n",
    "        \n",
    "    "
   ]
  },
  {
   "cell_type": "code",
   "execution_count": 20,
   "id": "b97e77ee-ed9e-43f1-89a7-60c7d484af0c",
   "metadata": {},
   "outputs": [],
   "source": [
    "url = ('https://data.usajobs.gov/api/search?' +\n",
    "           '&ResultsPerPage=500' +\n",
    "            '&Organization=AG')\n",
    "req = requests.get(url,headers=API_head).json()"
   ]
  },
  {
   "cell_type": "code",
   "execution_count": null,
   "id": "a82752c8-2609-4cfe-a843-a7b3a9e7c464",
   "metadata": {},
   "outputs": [],
   "source": []
  }
 ],
 "metadata": {
  "kernelspec": {
   "display_name": "Python 3 (ipykernel)",
   "language": "python",
   "name": "python3"
  },
  "language_info": {
   "codemirror_mode": {
    "name": "ipython",
    "version": 3
   },
   "file_extension": ".py",
   "mimetype": "text/x-python",
   "name": "python",
   "nbconvert_exporter": "python",
   "pygments_lexer": "ipython3",
   "version": "3.9.0"
  }
 },
 "nbformat": 4,
 "nbformat_minor": 5
}
